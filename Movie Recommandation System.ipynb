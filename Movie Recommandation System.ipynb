{
 "cells": [
  {
   "cell_type": "markdown",
   "metadata": {},
   "source": [
    "# Movie Recommendation System"
   ]
  },
  {
   "cell_type": "markdown",
   "metadata": {},
   "source": [
    "ML models to be used\n",
    "<ul>\n",
    "<li>Collaborative fltering: KNN</li> (DONE)\n",
    "<li>Matrix Factorization</li> (IN PROCESS)\n",
    "<li>Genres Model: Neural Network/Deep Learning (Google Colab)</li> (Understanding)\n",
    "<li>Combined Model: Linear Regression</li>\n",
    "</ul>\n"
   ]
  },
  {
   "cell_type": "markdown",
   "metadata": {},
   "source": [
    "## Data Preparation"
   ]
  },
  {
   "cell_type": "code",
   "execution_count": 2,
   "metadata": {},
   "outputs": [],
   "source": [
    "import pandas as pd\n",
    "import numpy as np\n",
    "import matplotlib.pyplot as plt"
   ]
  },
  {
   "cell_type": "markdown",
   "metadata": {},
   "source": [
    "### Load data"
   ]
  },
  {
   "cell_type": "code",
   "execution_count": 92,
   "metadata": {},
   "outputs": [
    {
     "data": {
      "text/html": [
       "<div>\n",
       "<style scoped>\n",
       "    .dataframe tbody tr th:only-of-type {\n",
       "        vertical-align: middle;\n",
       "    }\n",
       "\n",
       "    .dataframe tbody tr th {\n",
       "        vertical-align: top;\n",
       "    }\n",
       "\n",
       "    .dataframe thead th {\n",
       "        text-align: right;\n",
       "    }\n",
       "</style>\n",
       "<table border=\"1\" class=\"dataframe\">\n",
       "  <thead>\n",
       "    <tr style=\"text-align: right;\">\n",
       "      <th></th>\n",
       "      <th>movieId</th>\n",
       "      <th>title</th>\n",
       "      <th>genres</th>\n",
       "    </tr>\n",
       "  </thead>\n",
       "  <tbody>\n",
       "    <tr>\n",
       "      <th>0</th>\n",
       "      <td>1</td>\n",
       "      <td>Toy Story (1995)</td>\n",
       "      <td>Adventure|Animation|Children|Comedy|Fantasy</td>\n",
       "    </tr>\n",
       "    <tr>\n",
       "      <th>1</th>\n",
       "      <td>2</td>\n",
       "      <td>Jumanji (1995)</td>\n",
       "      <td>Adventure|Children|Fantasy</td>\n",
       "    </tr>\n",
       "    <tr>\n",
       "      <th>2</th>\n",
       "      <td>3</td>\n",
       "      <td>Grumpier Old Men (1995)</td>\n",
       "      <td>Comedy|Romance</td>\n",
       "    </tr>\n",
       "    <tr>\n",
       "      <th>3</th>\n",
       "      <td>4</td>\n",
       "      <td>Waiting to Exhale (1995)</td>\n",
       "      <td>Comedy|Drama|Romance</td>\n",
       "    </tr>\n",
       "    <tr>\n",
       "      <th>4</th>\n",
       "      <td>5</td>\n",
       "      <td>Father of the Bride Part II (1995)</td>\n",
       "      <td>Comedy</td>\n",
       "    </tr>\n",
       "  </tbody>\n",
       "</table>\n",
       "</div>"
      ],
      "text/plain": [
       "   movieId                               title  \\\n",
       "0        1                    Toy Story (1995)   \n",
       "1        2                      Jumanji (1995)   \n",
       "2        3             Grumpier Old Men (1995)   \n",
       "3        4            Waiting to Exhale (1995)   \n",
       "4        5  Father of the Bride Part II (1995)   \n",
       "\n",
       "                                        genres  \n",
       "0  Adventure|Animation|Children|Comedy|Fantasy  \n",
       "1                   Adventure|Children|Fantasy  \n",
       "2                               Comedy|Romance  \n",
       "3                         Comedy|Drama|Romance  \n",
       "4                                       Comedy  "
      ]
     },
     "execution_count": 92,
     "metadata": {},
     "output_type": "execute_result"
    }
   ],
   "source": [
    "movies=pd.read_csv(\"IMDB-Dataset/movies.csv\")\n",
    "movies.head()"
   ]
  },
  {
   "cell_type": "code",
   "execution_count": 93,
   "metadata": {},
   "outputs": [
    {
     "data": {
      "text/html": [
       "<div>\n",
       "<style scoped>\n",
       "    .dataframe tbody tr th:only-of-type {\n",
       "        vertical-align: middle;\n",
       "    }\n",
       "\n",
       "    .dataframe tbody tr th {\n",
       "        vertical-align: top;\n",
       "    }\n",
       "\n",
       "    .dataframe thead th {\n",
       "        text-align: right;\n",
       "    }\n",
       "</style>\n",
       "<table border=\"1\" class=\"dataframe\">\n",
       "  <thead>\n",
       "    <tr style=\"text-align: right;\">\n",
       "      <th></th>\n",
       "      <th>userId</th>\n",
       "      <th>movieId</th>\n",
       "      <th>rating</th>\n",
       "    </tr>\n",
       "  </thead>\n",
       "  <tbody>\n",
       "    <tr>\n",
       "      <th>0</th>\n",
       "      <td>1</td>\n",
       "      <td>16</td>\n",
       "      <td>4.0</td>\n",
       "    </tr>\n",
       "    <tr>\n",
       "      <th>1</th>\n",
       "      <td>1</td>\n",
       "      <td>24</td>\n",
       "      <td>1.5</td>\n",
       "    </tr>\n",
       "    <tr>\n",
       "      <th>2</th>\n",
       "      <td>1</td>\n",
       "      <td>32</td>\n",
       "      <td>4.0</td>\n",
       "    </tr>\n",
       "    <tr>\n",
       "      <th>3</th>\n",
       "      <td>1</td>\n",
       "      <td>47</td>\n",
       "      <td>4.0</td>\n",
       "    </tr>\n",
       "    <tr>\n",
       "      <th>4</th>\n",
       "      <td>1</td>\n",
       "      <td>50</td>\n",
       "      <td>4.0</td>\n",
       "    </tr>\n",
       "  </tbody>\n",
       "</table>\n",
       "</div>"
      ],
      "text/plain": [
       "   userId  movieId  rating\n",
       "0       1       16     4.0\n",
       "1       1       24     1.5\n",
       "2       1       32     4.0\n",
       "3       1       47     4.0\n",
       "4       1       50     4.0"
      ]
     },
     "execution_count": 93,
     "metadata": {},
     "output_type": "execute_result"
    }
   ],
   "source": [
    "ratings=pd.read_csv(\"IMDB-Dataset/ratings.csv\")\n",
    "ratings.drop('timestamp',axis='columns', inplace=True)\n",
    "ratings.head()"
   ]
  },
  {
   "cell_type": "markdown",
   "metadata": {},
   "source": [
    "### Understanding Data"
   ]
  },
  {
   "cell_type": "code",
   "execution_count": null,
   "metadata": {},
   "outputs": [],
   "source": [
    "print(movies.shape,ratings.shape)"
   ]
  },
  {
   "cell_type": "code",
   "execution_count": 94,
   "metadata": {},
   "outputs": [
    {
     "data": {
      "text/plain": [
       "count    105339.000000\n",
       "mean          3.516850\n",
       "std           1.044872\n",
       "min           0.500000\n",
       "25%           3.000000\n",
       "50%           3.500000\n",
       "75%           4.000000\n",
       "max           5.000000\n",
       "Name: rating, dtype: float64"
      ]
     },
     "execution_count": 94,
     "metadata": {},
     "output_type": "execute_result"
    }
   ],
   "source": [
    "ratings['rating'].describe()"
   ]
  },
  {
   "cell_type": "code",
   "execution_count": 95,
   "metadata": {},
   "outputs": [
    {
     "data": {
      "text/html": [
       "<div>\n",
       "<style scoped>\n",
       "    .dataframe tbody tr th:only-of-type {\n",
       "        vertical-align: middle;\n",
       "    }\n",
       "\n",
       "    .dataframe tbody tr th {\n",
       "        vertical-align: top;\n",
       "    }\n",
       "\n",
       "    .dataframe thead th {\n",
       "        text-align: right;\n",
       "    }\n",
       "</style>\n",
       "<table border=\"1\" class=\"dataframe\">\n",
       "  <thead>\n",
       "    <tr style=\"text-align: right;\">\n",
       "      <th></th>\n",
       "      <th>movieId</th>\n",
       "      <th>title</th>\n",
       "      <th>genres</th>\n",
       "      <th>userId</th>\n",
       "      <th>rating</th>\n",
       "    </tr>\n",
       "  </thead>\n",
       "  <tbody>\n",
       "    <tr>\n",
       "      <th>0</th>\n",
       "      <td>1</td>\n",
       "      <td>Toy Story (1995)</td>\n",
       "      <td>Adventure|Animation|Children|Comedy|Fantasy</td>\n",
       "      <td>2</td>\n",
       "      <td>5.0</td>\n",
       "    </tr>\n",
       "    <tr>\n",
       "      <th>1</th>\n",
       "      <td>1</td>\n",
       "      <td>Toy Story (1995)</td>\n",
       "      <td>Adventure|Animation|Children|Comedy|Fantasy</td>\n",
       "      <td>5</td>\n",
       "      <td>4.0</td>\n",
       "    </tr>\n",
       "    <tr>\n",
       "      <th>2</th>\n",
       "      <td>1</td>\n",
       "      <td>Toy Story (1995)</td>\n",
       "      <td>Adventure|Animation|Children|Comedy|Fantasy</td>\n",
       "      <td>8</td>\n",
       "      <td>5.0</td>\n",
       "    </tr>\n",
       "    <tr>\n",
       "      <th>3</th>\n",
       "      <td>1</td>\n",
       "      <td>Toy Story (1995)</td>\n",
       "      <td>Adventure|Animation|Children|Comedy|Fantasy</td>\n",
       "      <td>11</td>\n",
       "      <td>4.0</td>\n",
       "    </tr>\n",
       "    <tr>\n",
       "      <th>4</th>\n",
       "      <td>1</td>\n",
       "      <td>Toy Story (1995)</td>\n",
       "      <td>Adventure|Animation|Children|Comedy|Fantasy</td>\n",
       "      <td>14</td>\n",
       "      <td>4.0</td>\n",
       "    </tr>\n",
       "  </tbody>\n",
       "</table>\n",
       "</div>"
      ],
      "text/plain": [
       "   movieId             title                                       genres  \\\n",
       "0        1  Toy Story (1995)  Adventure|Animation|Children|Comedy|Fantasy   \n",
       "1        1  Toy Story (1995)  Adventure|Animation|Children|Comedy|Fantasy   \n",
       "2        1  Toy Story (1995)  Adventure|Animation|Children|Comedy|Fantasy   \n",
       "3        1  Toy Story (1995)  Adventure|Animation|Children|Comedy|Fantasy   \n",
       "4        1  Toy Story (1995)  Adventure|Animation|Children|Comedy|Fantasy   \n",
       "\n",
       "   userId  rating  \n",
       "0       2     5.0  \n",
       "1       5     4.0  \n",
       "2       8     5.0  \n",
       "3      11     4.0  \n",
       "4      14     4.0  "
      ]
     },
     "execution_count": 95,
     "metadata": {},
     "output_type": "execute_result"
    }
   ],
   "source": [
    "merged=pd.merge(movies,ratings,on='movieId')\n",
    "merged.head()"
   ]
  },
  {
   "cell_type": "code",
   "execution_count": 96,
   "metadata": {
    "scrolled": true
   },
   "outputs": [
    {
     "data": {
      "text/html": [
       "<div>\n",
       "<style scoped>\n",
       "    .dataframe tbody tr th:only-of-type {\n",
       "        vertical-align: middle;\n",
       "    }\n",
       "\n",
       "    .dataframe tbody tr th {\n",
       "        vertical-align: top;\n",
       "    }\n",
       "\n",
       "    .dataframe thead th {\n",
       "        text-align: right;\n",
       "    }\n",
       "</style>\n",
       "<table border=\"1\" class=\"dataframe\">\n",
       "  <thead>\n",
       "    <tr style=\"text-align: right;\">\n",
       "      <th></th>\n",
       "      <th>movieId</th>\n",
       "      <th>userId</th>\n",
       "      <th>rating</th>\n",
       "    </tr>\n",
       "  </thead>\n",
       "  <tbody>\n",
       "    <tr>\n",
       "      <th>count</th>\n",
       "      <td>105339.000000</td>\n",
       "      <td>105339.000000</td>\n",
       "      <td>105339.000000</td>\n",
       "    </tr>\n",
       "    <tr>\n",
       "      <th>mean</th>\n",
       "      <td>13381.312477</td>\n",
       "      <td>364.924539</td>\n",
       "      <td>3.516850</td>\n",
       "    </tr>\n",
       "    <tr>\n",
       "      <th>std</th>\n",
       "      <td>26170.456869</td>\n",
       "      <td>197.486905</td>\n",
       "      <td>1.044872</td>\n",
       "    </tr>\n",
       "    <tr>\n",
       "      <th>min</th>\n",
       "      <td>1.000000</td>\n",
       "      <td>1.000000</td>\n",
       "      <td>0.500000</td>\n",
       "    </tr>\n",
       "    <tr>\n",
       "      <th>25%</th>\n",
       "      <td>1073.000000</td>\n",
       "      <td>192.000000</td>\n",
       "      <td>3.000000</td>\n",
       "    </tr>\n",
       "    <tr>\n",
       "      <th>50%</th>\n",
       "      <td>2497.000000</td>\n",
       "      <td>383.000000</td>\n",
       "      <td>3.500000</td>\n",
       "    </tr>\n",
       "    <tr>\n",
       "      <th>75%</th>\n",
       "      <td>5991.000000</td>\n",
       "      <td>557.000000</td>\n",
       "      <td>4.000000</td>\n",
       "    </tr>\n",
       "    <tr>\n",
       "      <th>max</th>\n",
       "      <td>149532.000000</td>\n",
       "      <td>668.000000</td>\n",
       "      <td>5.000000</td>\n",
       "    </tr>\n",
       "  </tbody>\n",
       "</table>\n",
       "</div>"
      ],
      "text/plain": [
       "             movieId         userId         rating\n",
       "count  105339.000000  105339.000000  105339.000000\n",
       "mean    13381.312477     364.924539       3.516850\n",
       "std     26170.456869     197.486905       1.044872\n",
       "min         1.000000       1.000000       0.500000\n",
       "25%      1073.000000     192.000000       3.000000\n",
       "50%      2497.000000     383.000000       3.500000\n",
       "75%      5991.000000     557.000000       4.000000\n",
       "max    149532.000000     668.000000       5.000000"
      ]
     },
     "execution_count": 96,
     "metadata": {},
     "output_type": "execute_result"
    }
   ],
   "source": [
    "#merged.shape\n",
    "merged.describe()"
   ]
  },
  {
   "cell_type": "code",
   "execution_count": 200,
   "metadata": {},
   "outputs": [
    {
     "data": {
      "text/plain": [
       "movieId    10325\n",
       "title      10323\n",
       "genres       938\n",
       "userId       668\n",
       "rating        10\n",
       "dtype: int64"
      ]
     },
     "execution_count": 200,
     "metadata": {},
     "output_type": "execute_result"
    }
   ],
   "source": [
    "merged.nunique()"
   ]
  },
  {
   "cell_type": "markdown",
   "metadata": {},
   "source": [
    "## Data Manipulation"
   ]
  },
  {
   "cell_type": "code",
   "execution_count": 97,
   "metadata": {},
   "outputs": [],
   "source": [
    "#avg rating for each movie\n",
    "ar=merged\n",
    "ar=ar.groupby('title')['rating'].mean()"
   ]
  },
  {
   "cell_type": "code",
   "execution_count": 98,
   "metadata": {},
   "outputs": [
    {
     "data": {
      "text/plain": [
       "title\n",
       "'71 (2014)                                 3.500\n",
       "'Hellboy': The Seeds of Creation (2004)    3.000\n",
       "'Round Midnight (1986)                     2.500\n",
       "'Til There Was You (1997)                  4.000\n",
       "'burbs, The (1989)                         3.125\n",
       "Name: rating, dtype: float64"
      ]
     },
     "execution_count": 98,
     "metadata": {},
     "output_type": "execute_result"
    }
   ],
   "source": [
    "ar.head()"
   ]
  },
  {
   "cell_type": "code",
   "execution_count": 99,
   "metadata": {
    "scrolled": true
   },
   "outputs": [
    {
     "data": {
      "text/plain": [
       "title\n",
       "Day Night Day Night (2006)                           0.5\n",
       "The Aztec Mummy Against the Humanoid Robot (1958)    0.5\n",
       "Angels in America (2003)                             0.5\n",
       "Blood of a Poet, The (Sang d'un poète, Le) (1930)    0.5\n",
       "It's Pat (1994)                                      0.5\n",
       "Name: rating, dtype: float64"
      ]
     },
     "execution_count": 99,
     "metadata": {},
     "output_type": "execute_result"
    }
   ],
   "source": [
    "#optional\n",
    "sorted_ratings=ar.sort_values(ascending=False)\n",
    "sorted_ratings.tail()"
   ]
  },
  {
   "cell_type": "code",
   "execution_count": 100,
   "metadata": {},
   "outputs": [
    {
     "data": {
      "text/plain": [
       "title\n",
       "'71 (2014)                                  1\n",
       "'Hellboy': The Seeds of Creation (2004)     1\n",
       "'Round Midnight (1986)                      1\n",
       "'Til There Was You (1997)                   3\n",
       "'burbs, The (1989)                         20\n",
       "Name: rating, dtype: int64"
      ]
     },
     "execution_count": 100,
     "metadata": {},
     "output_type": "execute_result"
    }
   ],
   "source": [
    "# total number of ratings for each movie\n",
    "tn=merged.groupby('title')[\"rating\"].count()\n",
    "tn.head()"
   ]
  },
  {
   "cell_type": "code",
   "execution_count": 130,
   "metadata": {
    "scrolled": true
   },
   "outputs": [],
   "source": [
    "# new temp dataframe\n",
    "\n",
    "data=pd.DataFrame()\n",
    "data['average_ratings']=ar\n",
    "data['count_of_total_ratings']=tn\n",
    "data=pd.merge(data,movies,on='title')\n",
    "#data.drop_duplicates()"
   ]
  },
  {
   "cell_type": "code",
   "execution_count": 110,
   "metadata": {},
   "outputs": [
    {
     "name": "stdout",
     "output_type": "stream",
     "text": [
      "(10329, 3)\n",
      "(10325, 5) <class 'pandas.core.frame.DataFrame'>\n"
     ]
    },
    {
     "data": {
      "text/html": [
       "<div>\n",
       "<style scoped>\n",
       "    .dataframe tbody tr th:only-of-type {\n",
       "        vertical-align: middle;\n",
       "    }\n",
       "\n",
       "    .dataframe tbody tr th {\n",
       "        vertical-align: top;\n",
       "    }\n",
       "\n",
       "    .dataframe thead th {\n",
       "        text-align: right;\n",
       "    }\n",
       "</style>\n",
       "<table border=\"1\" class=\"dataframe\">\n",
       "  <thead>\n",
       "    <tr style=\"text-align: right;\">\n",
       "      <th></th>\n",
       "      <th>title</th>\n",
       "      <th>average_ratings</th>\n",
       "      <th>count_of_total_ratings</th>\n",
       "      <th>movieId</th>\n",
       "      <th>genres</th>\n",
       "    </tr>\n",
       "  </thead>\n",
       "  <tbody>\n",
       "    <tr>\n",
       "      <th>0</th>\n",
       "      <td>'71 (2014)</td>\n",
       "      <td>3.500</td>\n",
       "      <td>1</td>\n",
       "      <td>117867</td>\n",
       "      <td>Action|Drama|Thriller|War</td>\n",
       "    </tr>\n",
       "    <tr>\n",
       "      <th>1</th>\n",
       "      <td>'Hellboy': The Seeds of Creation (2004)</td>\n",
       "      <td>3.000</td>\n",
       "      <td>1</td>\n",
       "      <td>97757</td>\n",
       "      <td>Action|Adventure|Comedy|Documentary|Fantasy</td>\n",
       "    </tr>\n",
       "    <tr>\n",
       "      <th>2</th>\n",
       "      <td>'Round Midnight (1986)</td>\n",
       "      <td>2.500</td>\n",
       "      <td>1</td>\n",
       "      <td>26564</td>\n",
       "      <td>Drama|Musical</td>\n",
       "    </tr>\n",
       "    <tr>\n",
       "      <th>3</th>\n",
       "      <td>'Til There Was You (1997)</td>\n",
       "      <td>4.000</td>\n",
       "      <td>3</td>\n",
       "      <td>779</td>\n",
       "      <td>Drama|Romance</td>\n",
       "    </tr>\n",
       "    <tr>\n",
       "      <th>4</th>\n",
       "      <td>'burbs, The (1989)</td>\n",
       "      <td>3.125</td>\n",
       "      <td>20</td>\n",
       "      <td>2072</td>\n",
       "      <td>Comedy</td>\n",
       "    </tr>\n",
       "  </tbody>\n",
       "</table>\n",
       "</div>"
      ],
      "text/plain": [
       "                                     title  average_ratings  \\\n",
       "0                               '71 (2014)            3.500   \n",
       "1  'Hellboy': The Seeds of Creation (2004)            3.000   \n",
       "2                   'Round Midnight (1986)            2.500   \n",
       "3                'Til There Was You (1997)            4.000   \n",
       "4                       'burbs, The (1989)            3.125   \n",
       "\n",
       "   count_of_total_ratings  movieId  \\\n",
       "0                       1   117867   \n",
       "1                       1    97757   \n",
       "2                       1    26564   \n",
       "3                       3      779   \n",
       "4                      20     2072   \n",
       "\n",
       "                                        genres  \n",
       "0                    Action|Drama|Thriller|War  \n",
       "1  Action|Adventure|Comedy|Documentary|Fantasy  \n",
       "2                                Drama|Musical  \n",
       "3                                Drama|Romance  \n",
       "4                                       Comedy  "
      ]
     },
     "execution_count": 110,
     "metadata": {},
     "output_type": "execute_result"
    }
   ],
   "source": [
    "print(movies.shape)\n",
    "print(data.shape, type(data))\n",
    "data.head()"
   ]
  },
  {
   "cell_type": "markdown",
   "metadata": {},
   "source": [
    "## Data Visualization"
   ]
  },
  {
   "cell_type": "code",
   "execution_count": 201,
   "metadata": {},
   "outputs": [],
   "source": [
    "import seaborn as sns\n",
    "sns.set_style('white')\n",
    "%matplotlib inline"
   ]
  },
  {
   "cell_type": "code",
   "execution_count": 202,
   "metadata": {},
   "outputs": [
    {
     "data": {
      "text/plain": [
       "<matplotlib.axes._subplots.AxesSubplot at 0x4f2c33e518>"
      ]
     },
     "execution_count": 202,
     "metadata": {},
     "output_type": "execute_result"
    },
    {
     "data": {
      "image/png": "[encoded data removed]",
      "text/plain": [
       "<Figure size 720x648 with 1 Axes>"
      ]
     },
     "metadata": {},
     "output_type": "display_data"
    }
   ],
   "source": [
    "plt.figure(figsize=(10,9))\n",
    "data['count_of_total_ratings'].hist(bins=10)"
   ]
  },
  {
   "cell_type": "markdown",
   "metadata": {},
   "source": [
    "From the output we can see that the most of the movies have recived less than 50 ratings. While the number of movies having more than 100 ratings is very low"
   ]
  },
  {
   "cell_type": "code",
   "execution_count": 205,
   "metadata": {},
   "outputs": [
    {
     "data": {
      "text/plain": [
       "<matplotlib.axes._subplots.AxesSubplot at 0x4f2c6df080>"
      ]
     },
     "execution_count": 205,
     "metadata": {},
     "output_type": "execute_result"
    },
    {
     "data": {
      "image/png": "[encoded data removed]",
      "text/plain": [
       "<Figure size 720x288 with 1 Axes>"
      ]
     },
     "metadata": {},
     "output_type": "display_data"
    }
   ],
   "source": [
    "plt.figure(figsize=(10,4))\n",
    "data['average_ratings'].hist(bins=70)"
   ]
  },
  {
   "cell_type": "markdown",
   "metadata": {},
   "source": [
    "We can see that the integer values have taller bars than the floating values since most of the users assign rating as integer value 1,2,3,4 or 5. Furthermore, its evident that the data has a weak normal distribution with the mean of around 3.5. There are a few outliers in the data.\n",
    "\n",
    "Earlier, we said that movies with a higher number of rating usually have a high avarage rating as well since a good movie is normally wll-known and a well-known movie is watched by a large number of people, and thus has a higher rating."
   ]
  },
  {
   "cell_type": "code",
   "execution_count": 206,
   "metadata": {},
   "outputs": [
    {
     "name": "stderr",
     "output_type": "stream",
     "text": [
      "C:\\Users\\User\\.anaconda\\Anaconda3\\lib\\site-packages\\matplotlib\\axes\\_axes.py:6521: MatplotlibDeprecationWarning: \n",
      "The 'normed' kwarg was deprecated in Matplotlib 2.1 and will be removed in 3.1. Use 'density' instead.\n",
      "  alternative=\"'density'\", removal=\"3.1\")\n",
      "C:\\Users\\User\\.anaconda\\Anaconda3\\lib\\site-packages\\matplotlib\\axes\\_axes.py:6521: MatplotlibDeprecationWarning: \n",
      "The 'normed' kwarg was deprecated in Matplotlib 2.1 and will be removed in 3.1. Use 'density' instead.\n",
      "  alternative=\"'density'\", removal=\"3.1\")\n"
     ]
    },
    {
     "data": {
      "text/plain": [
       "<seaborn.axisgrid.JointGrid at 0x4f2c1a8358>"
      ]
     },
     "execution_count": 206,
     "metadata": {},
     "output_type": "execute_result"
    },
    {
     "data": {
      "text/plain": [
       "<Figure size 576x432 with 0 Axes>"
      ]
     },
     "metadata": {},
     "output_type": "display_data"
    },
    {
     "data": {
      "image/png": "[encoded data removed]",
      "text/plain": [
       "<Figure size 432x432 with 3 Axes>"
      ]
     },
     "metadata": {},
     "output_type": "display_data"
    }
   ],
   "source": [
    "plt.figure(figsize=(8,6))\n",
    "sns.jointplot(x='average_ratings', y='count_of_total_ratings',data=data, alpha=0.5)"
   ]
  },
  {
   "cell_type": "markdown",
   "metadata": {},
   "source": [
    "The graph shows that,in general, movies with higher average ratings actually have more number of ratings, compared with movies that have lower average ratings."
   ]
  },
  {
   "cell_type": "markdown",
   "metadata": {},
   "source": [
    "# Building Recommandation System"
   ]
  },
  {
   "cell_type": "markdown",
   "metadata": {},
   "source": [
    "## KNN"
   ]
  },
  {
   "cell_type": "markdown",
   "metadata": {},
   "source": [
    "### One Hot encoding on genres"
   ]
  },
  {
   "cell_type": "markdown",
   "metadata": {},
   "source": [
    "As the 'ganres' is a categorical feauture it needs to be binarized so we can use it."
   ]
  },
  {
   "cell_type": "code",
   "execution_count": 131,
   "metadata": {},
   "outputs": [],
   "source": [
    "genre_labels = set()\n",
    "for s in data['genres'].str.split('|').values:\n",
    "    genre_labels = genre_labels.union(set(s))\n",
    "genre_labels=list(genre_labels)"
   ]
  },
  {
   "cell_type": "code",
   "execution_count": 132,
   "metadata": {},
   "outputs": [],
   "source": [
    "def binary(movieGenre):\n",
    "    binaryList = []\n",
    "    \n",
    "    for genre in genre_labels:\n",
    "        if genre in movieGenre:\n",
    "            binaryList.append(1)\n",
    "        else:\n",
    "            binaryList.append(0)\n",
    "    \n",
    "    return binaryList"
   ]
  },
  {
   "cell_type": "code",
   "execution_count": 133,
   "metadata": {},
   "outputs": [
    {
     "data": {
      "text/plain": [
       "0    [1, 0, 1, 0, 0, 0, 0, 0, 0, 0, 0, 0, 0, 0, 0, ...\n",
       "1    [0, 0, 0, 0, 0, 0, 0, 0, 1, 1, 1, 0, 0, 0, 0, ...\n",
       "2    [0, 0, 0, 0, 0, 1, 0, 0, 0, 0, 0, 0, 0, 0, 0, ...\n",
       "3    [0, 1, 0, 0, 0, 0, 0, 0, 0, 0, 0, 0, 0, 0, 0, ...\n",
       "4    [0, 0, 0, 0, 0, 0, 0, 0, 0, 0, 0, 0, 0, 0, 0, ...\n",
       "Name: genres_bin, dtype: object"
      ]
     },
     "execution_count": 133,
     "metadata": {},
     "output_type": "execute_result"
    }
   ],
   "source": [
    "data['genres_bin'] = data['genres'].apply(lambda x: binary(x))\n",
    "data['genres_bin'].head()"
   ]
  },
  {
   "cell_type": "code",
   "execution_count": 114,
   "metadata": {
    "scrolled": true
   },
   "outputs": [
    {
     "name": "stdout",
     "output_type": "stream",
     "text": [
      "(10325, 6) <class 'pandas.core.frame.DataFrame'>\n"
     ]
    },
    {
     "data": {
      "text/html": [
       "<div>\n",
       "<style scoped>\n",
       "    .dataframe tbody tr th:only-of-type {\n",
       "        vertical-align: middle;\n",
       "    }\n",
       "\n",
       "    .dataframe tbody tr th {\n",
       "        vertical-align: top;\n",
       "    }\n",
       "\n",
       "    .dataframe thead th {\n",
       "        text-align: right;\n",
       "    }\n",
       "</style>\n",
       "<table border=\"1\" class=\"dataframe\">\n",
       "  <thead>\n",
       "    <tr style=\"text-align: right;\">\n",
       "      <th></th>\n",
       "      <th>title</th>\n",
       "      <th>average_ratings</th>\n",
       "      <th>count_of_total_ratings</th>\n",
       "      <th>movieId</th>\n",
       "      <th>genres</th>\n",
       "      <th>genres_bin</th>\n",
       "    </tr>\n",
       "  </thead>\n",
       "  <tbody>\n",
       "    <tr>\n",
       "      <th>0</th>\n",
       "      <td>'71 (2014)</td>\n",
       "      <td>3.500</td>\n",
       "      <td>1</td>\n",
       "      <td>117867</td>\n",
       "      <td>Action|Drama|Thriller|War</td>\n",
       "      <td>[1, 0, 1, 0, 0, 0, 0, 0, 0, 0, 0, 0, 0, 0, 0, ...</td>\n",
       "    </tr>\n",
       "    <tr>\n",
       "      <th>1</th>\n",
       "      <td>'Hellboy': The Seeds of Creation (2004)</td>\n",
       "      <td>3.000</td>\n",
       "      <td>1</td>\n",
       "      <td>97757</td>\n",
       "      <td>Action|Adventure|Comedy|Documentary|Fantasy</td>\n",
       "      <td>[0, 0, 0, 0, 0, 0, 0, 0, 1, 1, 1, 0, 0, 0, 0, ...</td>\n",
       "    </tr>\n",
       "    <tr>\n",
       "      <th>2</th>\n",
       "      <td>'Round Midnight (1986)</td>\n",
       "      <td>2.500</td>\n",
       "      <td>1</td>\n",
       "      <td>26564</td>\n",
       "      <td>Drama|Musical</td>\n",
       "      <td>[0, 0, 0, 0, 0, 1, 0, 0, 0, 0, 0, 0, 0, 0, 0, ...</td>\n",
       "    </tr>\n",
       "    <tr>\n",
       "      <th>3</th>\n",
       "      <td>'Til There Was You (1997)</td>\n",
       "      <td>4.000</td>\n",
       "      <td>3</td>\n",
       "      <td>779</td>\n",
       "      <td>Drama|Romance</td>\n",
       "      <td>[0, 1, 0, 0, 0, 0, 0, 0, 0, 0, 0, 0, 0, 0, 0, ...</td>\n",
       "    </tr>\n",
       "    <tr>\n",
       "      <th>4</th>\n",
       "      <td>'burbs, The (1989)</td>\n",
       "      <td>3.125</td>\n",
       "      <td>20</td>\n",
       "      <td>2072</td>\n",
       "      <td>Comedy</td>\n",
       "      <td>[0, 0, 0, 0, 0, 0, 0, 0, 0, 0, 0, 0, 0, 0, 0, ...</td>\n",
       "    </tr>\n",
       "  </tbody>\n",
       "</table>\n",
       "</div>"
      ],
      "text/plain": [
       "                                     title  average_ratings  \\\n",
       "0                               '71 (2014)            3.500   \n",
       "1  'Hellboy': The Seeds of Creation (2004)            3.000   \n",
       "2                   'Round Midnight (1986)            2.500   \n",
       "3                'Til There Was You (1997)            4.000   \n",
       "4                       'burbs, The (1989)            3.125   \n",
       "\n",
       "   count_of_total_ratings  movieId  \\\n",
       "0                       1   117867   \n",
       "1                       1    97757   \n",
       "2                       1    26564   \n",
       "3                       3      779   \n",
       "4                      20     2072   \n",
       "\n",
       "                                        genres  \\\n",
       "0                    Action|Drama|Thriller|War   \n",
       "1  Action|Adventure|Comedy|Documentary|Fantasy   \n",
       "2                                Drama|Musical   \n",
       "3                                Drama|Romance   \n",
       "4                                       Comedy   \n",
       "\n",
       "                                          genres_bin  \n",
       "0  [1, 0, 1, 0, 0, 0, 0, 0, 0, 0, 0, 0, 0, 0, 0, ...  \n",
       "1  [0, 0, 0, 0, 0, 0, 0, 0, 1, 1, 1, 0, 0, 0, 0, ...  \n",
       "2  [0, 0, 0, 0, 0, 1, 0, 0, 0, 0, 0, 0, 0, 0, 0, ...  \n",
       "3  [0, 1, 0, 0, 0, 0, 0, 0, 0, 0, 0, 0, 0, 0, 0, ...  \n",
       "4  [0, 0, 0, 0, 0, 0, 0, 0, 0, 0, 0, 0, 0, 0, 0, ...  "
      ]
     },
     "execution_count": 114,
     "metadata": {},
     "output_type": "execute_result"
    }
   ],
   "source": [
    "print(data.shape, type(data))\n",
    "data.head()"
   ]
  },
  {
   "cell_type": "markdown",
   "metadata": {},
   "source": [
    "Using cosine similarity method based on ganers. The smaller the angle, higher the cosine similarity, the much 1st movie is likely to be similar with the 2nd"
   ]
  },
  {
   "cell_type": "code",
   "execution_count": 115,
   "metadata": {},
   "outputs": [],
   "source": [
    "from scipy import spatial\n",
    "\n",
    "def Similarity(movieId1, movieId2):\n",
    "    a = data.iloc[movieId1]\n",
    "    b = data.iloc[movieId2]\n",
    "    \n",
    "    genresA = a['genres_bin']\n",
    "    genresB = b['genres_bin']\n",
    "    \n",
    "    genreDistance = spatial.distance.cosine(genresA, genresB)\n",
    "    return genreDistance"
   ]
  },
  {
   "cell_type": "code",
   "execution_count": 31,
   "metadata": {},
   "outputs": [
    {
     "data": {
      "text/plain": [
       "0.6666666666666666"
      ]
     },
     "execution_count": 31,
     "metadata": {},
     "output_type": "execute_result"
    }
   ],
   "source": [
    "Similarity(3,1600)"
   ]
  },
  {
   "cell_type": "markdown",
   "metadata": {},
   "source": [
    "I won't use 'count_of_total_ratings' column here, even though thresholding it by taking only the movies with more then 50 reviews sounds promising. :D (gonna try after deadline)"
   ]
  },
  {
   "cell_type": "code",
   "execution_count": 136,
   "metadata": {},
   "outputs": [
    {
     "name": "stderr",
     "output_type": "stream",
     "text": [
      "C:\\Users\\User\\.anaconda\\Anaconda3\\lib\\site-packages\\ipykernel_launcher.py:3: SettingWithCopyWarning: \n",
      "A value is trying to be set on a copy of a slice from a DataFrame.\n",
      "Try using .loc[row_indexer,col_indexer] = value instead\n",
      "\n",
      "See the caveats in the documentation: http://pandas.pydata.org/pandas-docs/stable/indexing.html#indexing-view-versus-copy\n",
      "  This is separate from the ipykernel package so we can avoid doing imports until\n"
     ]
    },
    {
     "data": {
      "text/html": [
       "<div>\n",
       "<style scoped>\n",
       "    .dataframe tbody tr th:only-of-type {\n",
       "        vertical-align: middle;\n",
       "    }\n",
       "\n",
       "    .dataframe tbody tr th {\n",
       "        vertical-align: top;\n",
       "    }\n",
       "\n",
       "    .dataframe thead th {\n",
       "        text-align: right;\n",
       "    }\n",
       "</style>\n",
       "<table border=\"1\" class=\"dataframe\">\n",
       "  <thead>\n",
       "    <tr style=\"text-align: right;\">\n",
       "      <th></th>\n",
       "      <th>title</th>\n",
       "      <th>genres</th>\n",
       "      <th>average_ratings</th>\n",
       "      <th>genres_bin</th>\n",
       "      <th>new_id</th>\n",
       "    </tr>\n",
       "  </thead>\n",
       "  <tbody>\n",
       "    <tr>\n",
       "      <th>0</th>\n",
       "      <td>'71 (2014)</td>\n",
       "      <td>Action|Drama|Thriller|War</td>\n",
       "      <td>3.500</td>\n",
       "      <td>[1, 0, 1, 0, 0, 0, 0, 0, 0, 0, 0, 0, 0, 0, 0, ...</td>\n",
       "      <td>0</td>\n",
       "    </tr>\n",
       "    <tr>\n",
       "      <th>1</th>\n",
       "      <td>'Hellboy': The Seeds of Creation (2004)</td>\n",
       "      <td>Action|Adventure|Comedy|Documentary|Fantasy</td>\n",
       "      <td>3.000</td>\n",
       "      <td>[0, 0, 0, 0, 0, 0, 0, 0, 1, 1, 1, 0, 0, 0, 0, ...</td>\n",
       "      <td>1</td>\n",
       "    </tr>\n",
       "    <tr>\n",
       "      <th>2</th>\n",
       "      <td>'Round Midnight (1986)</td>\n",
       "      <td>Drama|Musical</td>\n",
       "      <td>2.500</td>\n",
       "      <td>[0, 0, 0, 0, 0, 1, 0, 0, 0, 0, 0, 0, 0, 0, 0, ...</td>\n",
       "      <td>2</td>\n",
       "    </tr>\n",
       "    <tr>\n",
       "      <th>3</th>\n",
       "      <td>'Til There Was You (1997)</td>\n",
       "      <td>Drama|Romance</td>\n",
       "      <td>4.000</td>\n",
       "      <td>[0, 1, 0, 0, 0, 0, 0, 0, 0, 0, 0, 0, 0, 0, 0, ...</td>\n",
       "      <td>3</td>\n",
       "    </tr>\n",
       "    <tr>\n",
       "      <th>4</th>\n",
       "      <td>'burbs, The (1989)</td>\n",
       "      <td>Comedy</td>\n",
       "      <td>3.125</td>\n",
       "      <td>[0, 0, 0, 0, 0, 0, 0, 0, 0, 0, 0, 0, 0, 0, 0, ...</td>\n",
       "      <td>4</td>\n",
       "    </tr>\n",
       "  </tbody>\n",
       "</table>\n",
       "</div>"
      ],
      "text/plain": [
       "                                     title  \\\n",
       "0                               '71 (2014)   \n",
       "1  'Hellboy': The Seeds of Creation (2004)   \n",
       "2                   'Round Midnight (1986)   \n",
       "3                'Til There Was You (1997)   \n",
       "4                       'burbs, The (1989)   \n",
       "\n",
       "                                        genres  average_ratings  \\\n",
       "0                    Action|Drama|Thriller|War            3.500   \n",
       "1  Action|Adventure|Comedy|Documentary|Fantasy            3.000   \n",
       "2                                Drama|Musical            2.500   \n",
       "3                                Drama|Romance            4.000   \n",
       "4                                       Comedy            3.125   \n",
       "\n",
       "                                          genres_bin  new_id  \n",
       "0  [1, 0, 1, 0, 0, 0, 0, 0, 0, 0, 0, 0, 0, 0, 0, ...       0  \n",
       "1  [0, 0, 0, 0, 0, 0, 0, 0, 1, 1, 1, 0, 0, 0, 0, ...       1  \n",
       "2  [0, 0, 0, 0, 0, 1, 0, 0, 0, 0, 0, 0, 0, 0, 0, ...       2  \n",
       "3  [0, 1, 0, 0, 0, 0, 0, 0, 0, 0, 0, 0, 0, 0, 0, ...       3  \n",
       "4  [0, 0, 0, 0, 0, 0, 0, 0, 0, 0, 0, 0, 0, 0, 0, ...       4  "
      ]
     },
     "execution_count": 136,
     "metadata": {},
     "output_type": "execute_result"
    }
   ],
   "source": [
    "new_id = list(range(0,data.shape[0]))\n",
    "dataK=data[['title','genres','average_ratings','genres_bin']]\n",
    "dataK['new_id']=new_id\n",
    "dataK.head()"
   ]
  },
  {
   "cell_type": "markdown",
   "metadata": {},
   "source": [
    "As it takes 26 seconds for each movie to find neighbors and do the rating prediction i decided to take 2% of our dataset, i.e 206 raws "
   ]
  },
  {
   "cell_type": "code",
   "execution_count": 181,
   "metadata": {},
   "outputs": [],
   "source": [
    "# Randomly sample 2% of the ratings dataset\n",
    "small_data = dataK.sample(frac=0.02)"
   ]
  },
  {
   "cell_type": "code",
   "execution_count": 183,
   "metadata": {},
   "outputs": [
    {
     "data": {
      "text/html": [
       "<div>\n",
       "<style scoped>\n",
       "    .dataframe tbody tr th:only-of-type {\n",
       "        vertical-align: middle;\n",
       "    }\n",
       "\n",
       "    .dataframe tbody tr th {\n",
       "        vertical-align: top;\n",
       "    }\n",
       "\n",
       "    .dataframe thead th {\n",
       "        text-align: right;\n",
       "    }\n",
       "</style>\n",
       "<table border=\"1\" class=\"dataframe\">\n",
       "  <thead>\n",
       "    <tr style=\"text-align: right;\">\n",
       "      <th></th>\n",
       "      <th>title</th>\n",
       "      <th>genres</th>\n",
       "      <th>average_ratings</th>\n",
       "      <th>genres_bin</th>\n",
       "      <th>new_id</th>\n",
       "    </tr>\n",
       "  </thead>\n",
       "  <tbody>\n",
       "    <tr>\n",
       "      <th>5611</th>\n",
       "      <td>Lucky Number Slevin (2006)</td>\n",
       "      <td>Crime|Drama|Mystery</td>\n",
       "      <td>3.892857</td>\n",
       "      <td>[0, 0, 0, 0, 1, 0, 0, 0, 0, 0, 0, 0, 0, 0, 0, ...</td>\n",
       "      <td>5611</td>\n",
       "    </tr>\n",
       "    <tr>\n",
       "      <th>2402</th>\n",
       "      <td>Death Note (2006)</td>\n",
       "      <td>Adventure|Crime|Drama|Horror|Mystery</td>\n",
       "      <td>4.000000</td>\n",
       "      <td>[0, 0, 0, 0, 1, 0, 0, 0, 0, 1, 0, 1, 0, 0, 0, ...</td>\n",
       "      <td>2402</td>\n",
       "    </tr>\n",
       "    <tr>\n",
       "      <th>9267</th>\n",
       "      <td>Tillman Story, The (2010)</td>\n",
       "      <td>Documentary</td>\n",
       "      <td>4.000000</td>\n",
       "      <td>[0, 0, 0, 0, 0, 0, 0, 0, 1, 0, 0, 0, 0, 0, 0, ...</td>\n",
       "      <td>9267</td>\n",
       "    </tr>\n",
       "    <tr>\n",
       "      <th>469</th>\n",
       "      <td>Anastasia (1997)</td>\n",
       "      <td>Adventure|Animation|Children|Drama|Musical</td>\n",
       "      <td>3.590909</td>\n",
       "      <td>[0, 0, 0, 0, 0, 1, 0, 1, 0, 1, 0, 0, 0, 1, 0, ...</td>\n",
       "      <td>469</td>\n",
       "    </tr>\n",
       "    <tr>\n",
       "      <th>1784</th>\n",
       "      <td>Cherry 2000 (1987)</td>\n",
       "      <td>Romance|Sci-Fi</td>\n",
       "      <td>2.500000</td>\n",
       "      <td>[0, 1, 0, 0, 0, 0, 0, 0, 0, 0, 0, 0, 1, 0, 0, ...</td>\n",
       "      <td>1784</td>\n",
       "    </tr>\n",
       "  </tbody>\n",
       "</table>\n",
       "</div>"
      ],
      "text/plain": [
       "                           title                                      genres  \\\n",
       "5611  Lucky Number Slevin (2006)                         Crime|Drama|Mystery   \n",
       "2402           Death Note (2006)        Adventure|Crime|Drama|Horror|Mystery   \n",
       "9267   Tillman Story, The (2010)                                 Documentary   \n",
       "469             Anastasia (1997)  Adventure|Animation|Children|Drama|Musical   \n",
       "1784          Cherry 2000 (1987)                              Romance|Sci-Fi   \n",
       "\n",
       "      average_ratings                                         genres_bin  \\\n",
       "5611         3.892857  [0, 0, 0, 0, 1, 0, 0, 0, 0, 0, 0, 0, 0, 0, 0, ...   \n",
       "2402         4.000000  [0, 0, 0, 0, 1, 0, 0, 0, 0, 1, 0, 1, 0, 0, 0, ...   \n",
       "9267         4.000000  [0, 0, 0, 0, 0, 0, 0, 0, 1, 0, 0, 0, 0, 0, 0, ...   \n",
       "469          3.590909  [0, 0, 0, 0, 0, 1, 0, 1, 0, 1, 0, 0, 0, 1, 0, ...   \n",
       "1784         2.500000  [0, 1, 0, 0, 0, 0, 0, 0, 0, 0, 0, 0, 1, 0, 0, ...   \n",
       "\n",
       "      new_id  \n",
       "5611    5611  \n",
       "2402    2402  \n",
       "9267    9267  \n",
       "469      469  \n",
       "1784    1784  "
      ]
     },
     "execution_count": 183,
     "metadata": {},
     "output_type": "execute_result"
    }
   ],
   "source": [
    "small_data.shape"
   ]
  },
  {
   "cell_type": "markdown",
   "metadata": {},
   "source": [
    "### For Prediction"
   ]
  },
  {
   "cell_type": "code",
   "execution_count": 150,
   "metadata": {},
   "outputs": [],
   "source": [
    "# find K Neighbors\n",
    "import operator\n",
    "def getNeighbors(baseMovie, K):\n",
    "    distances = []\n",
    "\n",
    "    for index, movie in dataK.iterrows():\n",
    "        if movie['new_id'] != baseMovie['new_id'].values[0]:\n",
    "            dist = Similarity(baseMovie['new_id'].values[0], movie['new_id'])\n",
    "            distances.append((movie['new_id'], dist))\n",
    "\n",
    "    distances.sort(key=operator.itemgetter(1))\n",
    "    neighbors = []\n",
    "\n",
    "    for x in range(K):\n",
    "        neighbors.append(distances[x])\n",
    "    return neighbors"
   ]
  },
  {
   "cell_type": "code",
   "execution_count": 164,
   "metadata": {},
   "outputs": [],
   "source": [
    "# predict what avg rating can have movie based on it's Neighbors' avg ratings\n",
    "def predict_ratings(df):\n",
    "    predictions=pd.Series()\n",
    "    for movie_id in df['new_id']:\n",
    "        new_movie = df[df['new_id']==movie_id].iloc[0].to_frame().T\n",
    "\n",
    "        K = 10\n",
    "        avgRating = 0\n",
    "        neighbors = getNeighbors(new_movie, K)\n",
    "\n",
    "        for neighbor in neighbors:\n",
    "            avgRating = avgRating+dataK.iloc[neighbor[0]][2]  \n",
    "            \n",
    "        avgRating = avgRating/K\n",
    "        predictions.set_value(movie_id,avgRating)\n",
    "    return predictions\n"
   ]
  },
  {
   "cell_type": "code",
   "execution_count": 185,
   "metadata": {
    "scrolled": true
   },
   "outputs": [
    {
     "name": "stderr",
     "output_type": "stream",
     "text": [
      "C:\\Users\\User\\.anaconda\\Anaconda3\\lib\\site-packages\\ipykernel_launcher.py:14: FutureWarning: set_value is deprecated and will be removed in a future release. Please use .at[] or .iat[] accessors instead\n",
      "  \n"
     ]
    },
    {
     "name": "stdout",
     "output_type": "stream",
     "text": [
      "5424.821137905121\n"
     ]
    }
   ],
   "source": [
    "import time\n",
    "t0 = time.time()\n",
    "predictionK=predict_ratings(small_data)\n",
    "print(time.time() - t0)"
   ]
  },
  {
   "cell_type": "code",
   "execution_count": 192,
   "metadata": {},
   "outputs": [],
   "source": [
    "a=list(predictionK)"
   ]
  },
  {
   "cell_type": "code",
   "execution_count": 197,
   "metadata": {},
   "outputs": [],
   "source": [
    "# save predictions in numpy array\n",
    "np.save('predictionK.npy', np.asarray(a))\n",
    "np.savetxt(\"predictionK.txt\", np.asarray(a))"
   ]
  },
  {
   "cell_type": "markdown",
   "metadata": {},
   "source": [
    "### Evaluation"
   ]
  },
  {
   "cell_type": "code",
   "execution_count": 173,
   "metadata": {},
   "outputs": [],
   "source": [
    "from sklearn.metrics import mean_squared_error\n",
    "from math import sqrt\n",
    "\n",
    "def rmse(pred, actual):\n",
    "    return sqrt(mean_squared_error(pred, actual))"
   ]
  },
  {
   "cell_type": "code",
   "execution_count": 199,
   "metadata": {},
   "outputs": [
    {
     "name": "stdout",
     "output_type": "stream",
     "text": [
      "The RMSE for predictions with KNN:    0.851724055552432\n"
     ]
    }
   ],
   "source": [
    "rmseK=rmse(predictionK,small_data.average_ratings)\n",
    "print('The RMSE for predictions with KNN:   ',rmseK)"
   ]
  },
  {
   "cell_type": "code",
   "execution_count": 137,
   "metadata": {},
   "outputs": [],
   "source": [
    "# same prediction but for a single movie\n",
    "def predict_score(movie_id):\n",
    "    new_movie = dataK[dataK['new_id']==movie_id].iloc[0].to_frame().T\n",
    "    print('Selected Movie: ',new_movie.title.values[0])\n",
    "\n",
    "    K = 10\n",
    "    avgRating = 0\n",
    "    neighbors = getNeighbors(new_movie, K)\n",
    "    \n",
    "    print('\\nRecommended Movies: \\n')\n",
    "    for neighbor in neighbors:\n",
    "        avgRating = avgRating+dataK.iloc[neighbor[0]][2]  \n",
    "        print( dataK.iloc[neighbor[0]][0]+\" | Genres: \"+str(dataK.iloc[neighbor[0]][1]).strip('[]').replace(' ','')+\" | Rating: \"+str(dataK.iloc[neighbor[0]][2]))\n",
    "    \n",
    "    print('\\n')\n",
    "    avgRating = avgRating/K\n",
    "    print('The predicted rating for %s is: %f' %(new_movie['title'].values[0],avgRating))\n",
    "    print('The actual rating for %s is %f' %(new_movie['title'].values[0],new_movie['average_ratings']))"
   ]
  },
  {
   "cell_type": "code",
   "execution_count": 138,
   "metadata": {},
   "outputs": [
    {
     "name": "stdout",
     "output_type": "stream",
     "text": [
      "Selected Movie:  Love Exposure (Ai No Mukidashi) (2008)\n",
      "\n",
      "Recommended Movies: \n",
      "\n",
      "Casanova (2005) | Genres: Action|Adventure|Comedy|Drama|Romance | Rating: 3.2\n",
      "(500) Days of Summer (2009) | Genres: Comedy|Drama|Romance | Rating: 3.9324324324324325\n",
      "10 Items or Less (2006) | Genres: Comedy|Drama|Romance | Rating: 3.8333333333333335\n",
      "101 Reykjavik (101 Reykjavík) (2000) | Genres: Comedy|Drama|Romance | Rating: 2.0\n",
      "2 Days in Paris (2007) | Genres: Comedy|Drama|Romance | Rating: 3.5\n",
      "3 Idiots (2009) | Genres: Comedy|Drama|Romance | Rating: 4.666666666666667\n",
      "About Last Night... (1986) | Genres: Comedy|Drama|Romance | Rating: 2.9\n",
      "About a Boy (2002) | Genres: Comedy|Drama|Romance | Rating: 3.625\n",
      "Accidental Tourist, The (1988) | Genres: Comedy|Drama|Romance | Rating: 2.8333333333333335\n",
      "Adaptation (2002) | Genres: Comedy|Drama|Romance | Rating: 3.9761904761904763\n",
      "\n",
      "\n",
      "The predicted rating for Love Exposure (Ai No Mukidashi) (2008) is: 3.446696\n",
      "The actual rating for Love Exposure (Ai No Mukidashi) (2008) is 5.000000\n"
     ]
    }
   ],
   "source": [
    "predict_score(5567)"
   ]
  }
 ],
 "metadata": {
  "kernelspec": {
   "display_name": "Python 3",
   "language": "python",
   "name": "python3"
  },
  "language_info": {
   "codemirror_mode": {
    "name": "ipython",
    "version": 3
   },
   "file_extension": ".py",
   "mimetype": "text/x-python",
   "name": "python",
   "nbconvert_exporter": "python",
   "pygments_lexer": "ipython3",
   "version": "3.6.5"
  }
 },
 "nbformat": 4,
 "nbformat_minor": 2
}
